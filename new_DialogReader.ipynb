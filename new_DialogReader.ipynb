{
  "nbformat": 4,
  "nbformat_minor": 0,
  "metadata": {
    "colab": {
      "provenance": []
    },
    "kernelspec": {
      "name": "python3",
      "display_name": "Python 3"
    },
    "language_info": {
      "name": "python"
    }
  },
  "cells": [
    {
      "cell_type": "markdown",
      "source": [
        "# **Importação dos dados**"
      ],
      "metadata": {
        "id": "JwJNsq4cM5qA"
      }
    },
    {
      "cell_type": "code",
      "execution_count": null,
      "metadata": {
        "id": "-esgrOLqMygO",
        "collapsed": true
      },
      "outputs": [],
      "source": [
        "pip install demoji"
      ]
    },
    {
      "cell_type": "code",
      "source": [
        "import pandas as pd\n",
        "import re\n",
        "import demoji"
      ],
      "metadata": {
        "id": "KHWTw1JBNKA7"
      },
      "execution_count": null,
      "outputs": []
    },
    {
      "cell_type": "code",
      "source": [
        "df = pd.read_json('/content/drive/MyDrive/dialogos/Cópia de chatmessages_01mai.json')\n",
        "df.sort_values(by=['idp','cri'], inplace=True)"
      ],
      "metadata": {
        "id": "7BZIkfbANSdd"
      },
      "execution_count": null,
      "outputs": []
    },
    {
      "cell_type": "code",
      "source": [
        "df.head(500)"
      ],
      "metadata": {
        "collapsed": true,
        "id": "MbEL3v35NnFp"
      },
      "execution_count": null,
      "outputs": []
    },
    {
      "cell_type": "markdown",
      "source": [
        "# **Separação dos valores do _id em _id_chat e _id_seq**"
      ],
      "metadata": {
        "id": "WorMQ4QFNwp6"
      }
    },
    {
      "cell_type": "code",
      "source": [
        "df['_id_chat'] = df['_id'].apply(lambda x : x.split('-')[0])"
      ],
      "metadata": {
        "id": "biXocXMaNzST"
      },
      "execution_count": null,
      "outputs": []
    },
    {
      "cell_type": "code",
      "source": [
        "df['_id_seq'] = df['_id'].apply(lambda x : int(x.split('-')[1]))"
      ],
      "metadata": {
        "id": "ZI2UEMdhN4bf"
      },
      "execution_count": null,
      "outputs": []
    },
    {
      "cell_type": "code",
      "source": [
        "df_by_id_chat = df.sort_values(by=['idp','_id_chat','cri']).set_index('_id_chat')"
      ],
      "metadata": {
        "id": "IzberU2bN7Xh"
      },
      "execution_count": null,
      "outputs": []
    },
    {
      "cell_type": "markdown",
      "source": [
        "# **Quantidade de pessoas/diálogos e de diálogos totais**"
      ],
      "metadata": {
        "id": "LwnWGA89P31W"
      }
    },
    {
      "cell_type": "code",
      "source": [
        "id_pessoas = df['idp'].unique()"
      ],
      "metadata": {
        "id": "Ft1MLeiIPyXy"
      },
      "execution_count": null,
      "outputs": []
    },
    {
      "cell_type": "code",
      "source": [
        "id_pessoas.size"
      ],
      "metadata": {
        "colab": {
          "base_uri": "https://localhost:8080/"
        },
        "id": "308UAF_YP1Gb",
        "outputId": "939fbc69-f61d-43f0-e007-32f2f85697cf"
      },
      "execution_count": null,
      "outputs": [
        {
          "output_type": "execute_result",
          "data": {
            "text/plain": [
              "3244"
            ]
          },
          "metadata": {},
          "execution_count": 10
        }
      ]
    },
    {
      "cell_type": "code",
      "source": [
        "id_dialogos = df['_id_chat'].unique()"
      ],
      "metadata": {
        "id": "iw_tG0p8QAPy"
      },
      "execution_count": null,
      "outputs": []
    },
    {
      "cell_type": "code",
      "source": [
        "id_dialogos.size"
      ],
      "metadata": {
        "colab": {
          "base_uri": "https://localhost:8080/"
        },
        "id": "GFQJ0JhpQKsp",
        "outputId": "4b8f105f-90d5-4176-d120-9d3ffa6ec901"
      },
      "execution_count": null,
      "outputs": [
        {
          "output_type": "execute_result",
          "data": {
            "text/plain": [
              "7136"
            ]
          },
          "metadata": {},
          "execution_count": 12
        }
      ]
    },
    {
      "cell_type": "code",
      "source": [
        "df_by_id_chat.loc[id_dialogos[38]]"
      ],
      "metadata": {
        "colab": {
          "base_uri": "https://localhost:8080/",
          "height": 455
        },
        "collapsed": true,
        "id": "bpt4D7eHSzNP",
        "outputId": "3e90f362-f4ab-4666-dc58-9713f7f87d6a"
      },
      "execution_count": null,
      "outputs": [
        {
          "output_type": "execute_result",
          "data": {
            "text/plain": [
              "                                    _id                          cri  \\\n",
              "_id_chat                                                               \n",
              "xntRWdScPdXD2dxp8  xntRWdScPdXD2dxp8-81  2020-05-01T15:57:42.623750Z   \n",
              "xntRWdScPdXD2dxp8  xntRWdScPdXD2dxp8-80  2020-05-01T15:57:42.693347Z   \n",
              "xntRWdScPdXD2dxp8  xntRWdScPdXD2dxp8-79  2020-05-01T15:57:42.900248Z   \n",
              "xntRWdScPdXD2dxp8  xntRWdScPdXD2dxp8-78  2020-05-01T15:57:58.004633Z   \n",
              "xntRWdScPdXD2dxp8  xntRWdScPdXD2dxp8-77  2020-05-01T15:57:58.057278Z   \n",
              "...                                 ...                          ...   \n",
              "xntRWdScPdXD2dxp8   xntRWdScPdXD2dxp8-4  2020-05-01T17:55:05.632935Z   \n",
              "xntRWdScPdXD2dxp8   xntRWdScPdXD2dxp8-3  2020-05-01T18:11:01.411392Z   \n",
              "xntRWdScPdXD2dxp8   xntRWdScPdXD2dxp8-2  2020-05-01T18:11:01.646204Z   \n",
              "xntRWdScPdXD2dxp8   xntRWdScPdXD2dxp8-1  2020-05-01T18:11:23.254725Z   \n",
              "xntRWdScPdXD2dxp8   xntRWdScPdXD2dxp8-0  2020-05-01T18:11:24.634934Z   \n",
              "\n",
              "                                        atu                idp      ori  \\\n",
              "_id_chat                                                                  \n",
              "xntRWdScPdXD2dxp8  2020-05-01T18:11:44:984Z  2JiombtG62r4J3MSs  patient   \n",
              "xntRWdScPdXD2dxp8  2020-05-01T18:11:44:984Z  2JiombtG62r4J3MSs      bot   \n",
              "xntRWdScPdXD2dxp8  2020-05-01T18:11:44:984Z  2JiombtG62r4J3MSs      bot   \n",
              "xntRWdScPdXD2dxp8  2020-05-01T18:11:44:984Z  2JiombtG62r4J3MSs  patient   \n",
              "xntRWdScPdXD2dxp8  2020-05-01T18:11:44:984Z  2JiombtG62r4J3MSs      bot   \n",
              "...                                     ...                ...      ...   \n",
              "xntRWdScPdXD2dxp8  2020-05-01T18:11:44:984Z  2JiombtG62r4J3MSs      bot   \n",
              "xntRWdScPdXD2dxp8  2020-05-01T18:11:44:984Z  2JiombtG62r4J3MSs      bot   \n",
              "xntRWdScPdXD2dxp8  2020-05-01T18:11:44:984Z  2JiombtG62r4J3MSs      bot   \n",
              "xntRWdScPdXD2dxp8  2020-05-01T18:11:44:984Z  2JiombtG62r4J3MSs  patient   \n",
              "xntRWdScPdXD2dxp8  2020-05-01T18:11:44:984Z  2JiombtG62r4J3MSs      bot   \n",
              "\n",
              "                                                                 txt  _id_seq  \n",
              "_id_chat                                                                       \n",
              "xntRWdScPdXD2dxp8                                          Boa tarde       81  \n",
              "xntRWdScPdXD2dxp8  Olá! Bem-vindo(a) ao serviço de atendimento on...       80  \n",
              "xntRWdScPdXD2dxp8  Do que você precisa agora? (Digite o número da...       79  \n",
              "xntRWdScPdXD2dxp8                                                  1       78  \n",
              "xntRWdScPdXD2dxp8  As informações compartilhadas aqui são protegi...       77  \n",
              "...                                                              ...      ...  \n",
              "xntRWdScPdXD2dxp8  Certo! Antes de encerrar peço 1 minutinho para...        4  \n",
              "xntRWdScPdXD2dxp8  A Secretaria da Saúde do Estado tem um Program...        3  \n",
              "xntRWdScPdXD2dxp8  Sandra, você gostaria de tirar alguma dúvida s...        2  \n",
              "xntRWdScPdXD2dxp8                                                  X        1  \n",
              "xntRWdScPdXD2dxp8  Desculpe, não entendi sua dúvida. Do que você ...        0  \n",
              "\n",
              "[82 rows x 7 columns]"
            ],
            "text/html": [
              "\n",
              "  <div id=\"df-d7899955-de04-421d-b69c-8a8afdb9e1ce\" class=\"colab-df-container\">\n",
              "    <div>\n",
              "<style scoped>\n",
              "    .dataframe tbody tr th:only-of-type {\n",
              "        vertical-align: middle;\n",
              "    }\n",
              "\n",
              "    .dataframe tbody tr th {\n",
              "        vertical-align: top;\n",
              "    }\n",
              "\n",
              "    .dataframe thead th {\n",
              "        text-align: right;\n",
              "    }\n",
              "</style>\n",
              "<table border=\"1\" class=\"dataframe\">\n",
              "  <thead>\n",
              "    <tr style=\"text-align: right;\">\n",
              "      <th></th>\n",
              "      <th>_id</th>\n",
              "      <th>cri</th>\n",
              "      <th>atu</th>\n",
              "      <th>idp</th>\n",
              "      <th>ori</th>\n",
              "      <th>txt</th>\n",
              "      <th>_id_seq</th>\n",
              "    </tr>\n",
              "    <tr>\n",
              "      <th>_id_chat</th>\n",
              "      <th></th>\n",
              "      <th></th>\n",
              "      <th></th>\n",
              "      <th></th>\n",
              "      <th></th>\n",
              "      <th></th>\n",
              "      <th></th>\n",
              "    </tr>\n",
              "  </thead>\n",
              "  <tbody>\n",
              "    <tr>\n",
              "      <th>xntRWdScPdXD2dxp8</th>\n",
              "      <td>xntRWdScPdXD2dxp8-81</td>\n",
              "      <td>2020-05-01T15:57:42.623750Z</td>\n",
              "      <td>2020-05-01T18:11:44:984Z</td>\n",
              "      <td>2JiombtG62r4J3MSs</td>\n",
              "      <td>patient</td>\n",
              "      <td>Boa tarde</td>\n",
              "      <td>81</td>\n",
              "    </tr>\n",
              "    <tr>\n",
              "      <th>xntRWdScPdXD2dxp8</th>\n",
              "      <td>xntRWdScPdXD2dxp8-80</td>\n",
              "      <td>2020-05-01T15:57:42.693347Z</td>\n",
              "      <td>2020-05-01T18:11:44:984Z</td>\n",
              "      <td>2JiombtG62r4J3MSs</td>\n",
              "      <td>bot</td>\n",
              "      <td>Olá! Bem-vindo(a) ao serviço de atendimento on...</td>\n",
              "      <td>80</td>\n",
              "    </tr>\n",
              "    <tr>\n",
              "      <th>xntRWdScPdXD2dxp8</th>\n",
              "      <td>xntRWdScPdXD2dxp8-79</td>\n",
              "      <td>2020-05-01T15:57:42.900248Z</td>\n",
              "      <td>2020-05-01T18:11:44:984Z</td>\n",
              "      <td>2JiombtG62r4J3MSs</td>\n",
              "      <td>bot</td>\n",
              "      <td>Do que você precisa agora? (Digite o número da...</td>\n",
              "      <td>79</td>\n",
              "    </tr>\n",
              "    <tr>\n",
              "      <th>xntRWdScPdXD2dxp8</th>\n",
              "      <td>xntRWdScPdXD2dxp8-78</td>\n",
              "      <td>2020-05-01T15:57:58.004633Z</td>\n",
              "      <td>2020-05-01T18:11:44:984Z</td>\n",
              "      <td>2JiombtG62r4J3MSs</td>\n",
              "      <td>patient</td>\n",
              "      <td>1</td>\n",
              "      <td>78</td>\n",
              "    </tr>\n",
              "    <tr>\n",
              "      <th>xntRWdScPdXD2dxp8</th>\n",
              "      <td>xntRWdScPdXD2dxp8-77</td>\n",
              "      <td>2020-05-01T15:57:58.057278Z</td>\n",
              "      <td>2020-05-01T18:11:44:984Z</td>\n",
              "      <td>2JiombtG62r4J3MSs</td>\n",
              "      <td>bot</td>\n",
              "      <td>As informações compartilhadas aqui são protegi...</td>\n",
              "      <td>77</td>\n",
              "    </tr>\n",
              "    <tr>\n",
              "      <th>...</th>\n",
              "      <td>...</td>\n",
              "      <td>...</td>\n",
              "      <td>...</td>\n",
              "      <td>...</td>\n",
              "      <td>...</td>\n",
              "      <td>...</td>\n",
              "      <td>...</td>\n",
              "    </tr>\n",
              "    <tr>\n",
              "      <th>xntRWdScPdXD2dxp8</th>\n",
              "      <td>xntRWdScPdXD2dxp8-4</td>\n",
              "      <td>2020-05-01T17:55:05.632935Z</td>\n",
              "      <td>2020-05-01T18:11:44:984Z</td>\n",
              "      <td>2JiombtG62r4J3MSs</td>\n",
              "      <td>bot</td>\n",
              "      <td>Certo! Antes de encerrar peço 1 minutinho para...</td>\n",
              "      <td>4</td>\n",
              "    </tr>\n",
              "    <tr>\n",
              "      <th>xntRWdScPdXD2dxp8</th>\n",
              "      <td>xntRWdScPdXD2dxp8-3</td>\n",
              "      <td>2020-05-01T18:11:01.411392Z</td>\n",
              "      <td>2020-05-01T18:11:44:984Z</td>\n",
              "      <td>2JiombtG62r4J3MSs</td>\n",
              "      <td>bot</td>\n",
              "      <td>A Secretaria da Saúde do Estado tem um Program...</td>\n",
              "      <td>3</td>\n",
              "    </tr>\n",
              "    <tr>\n",
              "      <th>xntRWdScPdXD2dxp8</th>\n",
              "      <td>xntRWdScPdXD2dxp8-2</td>\n",
              "      <td>2020-05-01T18:11:01.646204Z</td>\n",
              "      <td>2020-05-01T18:11:44:984Z</td>\n",
              "      <td>2JiombtG62r4J3MSs</td>\n",
              "      <td>bot</td>\n",
              "      <td>Sandra, você gostaria de tirar alguma dúvida s...</td>\n",
              "      <td>2</td>\n",
              "    </tr>\n",
              "    <tr>\n",
              "      <th>xntRWdScPdXD2dxp8</th>\n",
              "      <td>xntRWdScPdXD2dxp8-1</td>\n",
              "      <td>2020-05-01T18:11:23.254725Z</td>\n",
              "      <td>2020-05-01T18:11:44:984Z</td>\n",
              "      <td>2JiombtG62r4J3MSs</td>\n",
              "      <td>patient</td>\n",
              "      <td>X</td>\n",
              "      <td>1</td>\n",
              "    </tr>\n",
              "    <tr>\n",
              "      <th>xntRWdScPdXD2dxp8</th>\n",
              "      <td>xntRWdScPdXD2dxp8-0</td>\n",
              "      <td>2020-05-01T18:11:24.634934Z</td>\n",
              "      <td>2020-05-01T18:11:44:984Z</td>\n",
              "      <td>2JiombtG62r4J3MSs</td>\n",
              "      <td>bot</td>\n",
              "      <td>Desculpe, não entendi sua dúvida. Do que você ...</td>\n",
              "      <td>0</td>\n",
              "    </tr>\n",
              "  </tbody>\n",
              "</table>\n",
              "<p>82 rows × 7 columns</p>\n",
              "</div>\n",
              "    <div class=\"colab-df-buttons\">\n",
              "\n",
              "  <div class=\"colab-df-container\">\n",
              "    <button class=\"colab-df-convert\" onclick=\"convertToInteractive('df-d7899955-de04-421d-b69c-8a8afdb9e1ce')\"\n",
              "            title=\"Convert this dataframe to an interactive table.\"\n",
              "            style=\"display:none;\">\n",
              "\n",
              "  <svg xmlns=\"http://www.w3.org/2000/svg\" height=\"24px\" viewBox=\"0 -960 960 960\">\n",
              "    <path d=\"M120-120v-720h720v720H120Zm60-500h600v-160H180v160Zm220 220h160v-160H400v160Zm0 220h160v-160H400v160ZM180-400h160v-160H180v160Zm440 0h160v-160H620v160ZM180-180h160v-160H180v160Zm440 0h160v-160H620v160Z\"/>\n",
              "  </svg>\n",
              "    </button>\n",
              "\n",
              "  <style>\n",
              "    .colab-df-container {\n",
              "      display:flex;\n",
              "      gap: 12px;\n",
              "    }\n",
              "\n",
              "    .colab-df-convert {\n",
              "      background-color: #E8F0FE;\n",
              "      border: none;\n",
              "      border-radius: 50%;\n",
              "      cursor: pointer;\n",
              "      display: none;\n",
              "      fill: #1967D2;\n",
              "      height: 32px;\n",
              "      padding: 0 0 0 0;\n",
              "      width: 32px;\n",
              "    }\n",
              "\n",
              "    .colab-df-convert:hover {\n",
              "      background-color: #E2EBFA;\n",
              "      box-shadow: 0px 1px 2px rgba(60, 64, 67, 0.3), 0px 1px 3px 1px rgba(60, 64, 67, 0.15);\n",
              "      fill: #174EA6;\n",
              "    }\n",
              "\n",
              "    .colab-df-buttons div {\n",
              "      margin-bottom: 4px;\n",
              "    }\n",
              "\n",
              "    [theme=dark] .colab-df-convert {\n",
              "      background-color: #3B4455;\n",
              "      fill: #D2E3FC;\n",
              "    }\n",
              "\n",
              "    [theme=dark] .colab-df-convert:hover {\n",
              "      background-color: #434B5C;\n",
              "      box-shadow: 0px 1px 3px 1px rgba(0, 0, 0, 0.15);\n",
              "      filter: drop-shadow(0px 1px 2px rgba(0, 0, 0, 0.3));\n",
              "      fill: #FFFFFF;\n",
              "    }\n",
              "  </style>\n",
              "\n",
              "    <script>\n",
              "      const buttonEl =\n",
              "        document.querySelector('#df-d7899955-de04-421d-b69c-8a8afdb9e1ce button.colab-df-convert');\n",
              "      buttonEl.style.display =\n",
              "        google.colab.kernel.accessAllowed ? 'block' : 'none';\n",
              "\n",
              "      async function convertToInteractive(key) {\n",
              "        const element = document.querySelector('#df-d7899955-de04-421d-b69c-8a8afdb9e1ce');\n",
              "        const dataTable =\n",
              "          await google.colab.kernel.invokeFunction('convertToInteractive',\n",
              "                                                    [key], {});\n",
              "        if (!dataTable) return;\n",
              "\n",
              "        const docLinkHtml = 'Like what you see? Visit the ' +\n",
              "          '<a target=\"_blank\" href=https://colab.research.google.com/notebooks/data_table.ipynb>data table notebook</a>'\n",
              "          + ' to learn more about interactive tables.';\n",
              "        element.innerHTML = '';\n",
              "        dataTable['output_type'] = 'display_data';\n",
              "        await google.colab.output.renderOutput(dataTable, element);\n",
              "        const docLink = document.createElement('div');\n",
              "        docLink.innerHTML = docLinkHtml;\n",
              "        element.appendChild(docLink);\n",
              "      }\n",
              "    </script>\n",
              "  </div>\n",
              "\n",
              "\n",
              "<div id=\"df-0fb56465-d542-461a-b502-52a6fbdc84e7\">\n",
              "  <button class=\"colab-df-quickchart\" onclick=\"quickchart('df-0fb56465-d542-461a-b502-52a6fbdc84e7')\"\n",
              "            title=\"Suggest charts\"\n",
              "            style=\"display:none;\">\n",
              "\n",
              "<svg xmlns=\"http://www.w3.org/2000/svg\" height=\"24px\"viewBox=\"0 0 24 24\"\n",
              "     width=\"24px\">\n",
              "    <g>\n",
              "        <path d=\"M19 3H5c-1.1 0-2 .9-2 2v14c0 1.1.9 2 2 2h14c1.1 0 2-.9 2-2V5c0-1.1-.9-2-2-2zM9 17H7v-7h2v7zm4 0h-2V7h2v10zm4 0h-2v-4h2v4z\"/>\n",
              "    </g>\n",
              "</svg>\n",
              "  </button>\n",
              "\n",
              "<style>\n",
              "  .colab-df-quickchart {\n",
              "      --bg-color: #E8F0FE;\n",
              "      --fill-color: #1967D2;\n",
              "      --hover-bg-color: #E2EBFA;\n",
              "      --hover-fill-color: #174EA6;\n",
              "      --disabled-fill-color: #AAA;\n",
              "      --disabled-bg-color: #DDD;\n",
              "  }\n",
              "\n",
              "  [theme=dark] .colab-df-quickchart {\n",
              "      --bg-color: #3B4455;\n",
              "      --fill-color: #D2E3FC;\n",
              "      --hover-bg-color: #434B5C;\n",
              "      --hover-fill-color: #FFFFFF;\n",
              "      --disabled-bg-color: #3B4455;\n",
              "      --disabled-fill-color: #666;\n",
              "  }\n",
              "\n",
              "  .colab-df-quickchart {\n",
              "    background-color: var(--bg-color);\n",
              "    border: none;\n",
              "    border-radius: 50%;\n",
              "    cursor: pointer;\n",
              "    display: none;\n",
              "    fill: var(--fill-color);\n",
              "    height: 32px;\n",
              "    padding: 0;\n",
              "    width: 32px;\n",
              "  }\n",
              "\n",
              "  .colab-df-quickchart:hover {\n",
              "    background-color: var(--hover-bg-color);\n",
              "    box-shadow: 0 1px 2px rgba(60, 64, 67, 0.3), 0 1px 3px 1px rgba(60, 64, 67, 0.15);\n",
              "    fill: var(--button-hover-fill-color);\n",
              "  }\n",
              "\n",
              "  .colab-df-quickchart-complete:disabled,\n",
              "  .colab-df-quickchart-complete:disabled:hover {\n",
              "    background-color: var(--disabled-bg-color);\n",
              "    fill: var(--disabled-fill-color);\n",
              "    box-shadow: none;\n",
              "  }\n",
              "\n",
              "  .colab-df-spinner {\n",
              "    border: 2px solid var(--fill-color);\n",
              "    border-color: transparent;\n",
              "    border-bottom-color: var(--fill-color);\n",
              "    animation:\n",
              "      spin 1s steps(1) infinite;\n",
              "  }\n",
              "\n",
              "  @keyframes spin {\n",
              "    0% {\n",
              "      border-color: transparent;\n",
              "      border-bottom-color: var(--fill-color);\n",
              "      border-left-color: var(--fill-color);\n",
              "    }\n",
              "    20% {\n",
              "      border-color: transparent;\n",
              "      border-left-color: var(--fill-color);\n",
              "      border-top-color: var(--fill-color);\n",
              "    }\n",
              "    30% {\n",
              "      border-color: transparent;\n",
              "      border-left-color: var(--fill-color);\n",
              "      border-top-color: var(--fill-color);\n",
              "      border-right-color: var(--fill-color);\n",
              "    }\n",
              "    40% {\n",
              "      border-color: transparent;\n",
              "      border-right-color: var(--fill-color);\n",
              "      border-top-color: var(--fill-color);\n",
              "    }\n",
              "    60% {\n",
              "      border-color: transparent;\n",
              "      border-right-color: var(--fill-color);\n",
              "    }\n",
              "    80% {\n",
              "      border-color: transparent;\n",
              "      border-right-color: var(--fill-color);\n",
              "      border-bottom-color: var(--fill-color);\n",
              "    }\n",
              "    90% {\n",
              "      border-color: transparent;\n",
              "      border-bottom-color: var(--fill-color);\n",
              "    }\n",
              "  }\n",
              "</style>\n",
              "\n",
              "  <script>\n",
              "    async function quickchart(key) {\n",
              "      const quickchartButtonEl =\n",
              "        document.querySelector('#' + key + ' button');\n",
              "      quickchartButtonEl.disabled = true;  // To prevent multiple clicks.\n",
              "      quickchartButtonEl.classList.add('colab-df-spinner');\n",
              "      try {\n",
              "        const charts = await google.colab.kernel.invokeFunction(\n",
              "            'suggestCharts', [key], {});\n",
              "      } catch (error) {\n",
              "        console.error('Error during call to suggestCharts:', error);\n",
              "      }\n",
              "      quickchartButtonEl.classList.remove('colab-df-spinner');\n",
              "      quickchartButtonEl.classList.add('colab-df-quickchart-complete');\n",
              "    }\n",
              "    (() => {\n",
              "      let quickchartButtonEl =\n",
              "        document.querySelector('#df-0fb56465-d542-461a-b502-52a6fbdc84e7 button');\n",
              "      quickchartButtonEl.style.display =\n",
              "        google.colab.kernel.accessAllowed ? 'block' : 'none';\n",
              "    })();\n",
              "  </script>\n",
              "</div>\n",
              "\n",
              "    </div>\n",
              "  </div>\n"
            ],
            "application/vnd.google.colaboratory.intrinsic+json": {
              "type": "dataframe",
              "summary": "{\n  \"name\": \"df_by_id_chat\",\n  \"rows\": 82,\n  \"fields\": [\n    {\n      \"column\": \"_id_chat\",\n      \"properties\": {\n        \"dtype\": \"category\",\n        \"num_unique_values\": 1,\n        \"samples\": [\n          \"xntRWdScPdXD2dxp8\"\n        ],\n        \"semantic_type\": \"\",\n        \"description\": \"\"\n      }\n    },\n    {\n      \"column\": \"_id\",\n      \"properties\": {\n        \"dtype\": \"string\",\n        \"num_unique_values\": 82,\n        \"samples\": [\n          \"xntRWdScPdXD2dxp8-51\"\n        ],\n        \"semantic_type\": \"\",\n        \"description\": \"\"\n      }\n    },\n    {\n      \"column\": \"cri\",\n      \"properties\": {\n        \"dtype\": \"object\",\n        \"num_unique_values\": 82,\n        \"samples\": [\n          \"2020-05-01T16:09:20.524144Z\"\n        ],\n        \"semantic_type\": \"\",\n        \"description\": \"\"\n      }\n    },\n    {\n      \"column\": \"atu\",\n      \"properties\": {\n        \"dtype\": \"category\",\n        \"num_unique_values\": 1,\n        \"samples\": [\n          \"2020-05-01T18:11:44:984Z\"\n        ],\n        \"semantic_type\": \"\",\n        \"description\": \"\"\n      }\n    },\n    {\n      \"column\": \"idp\",\n      \"properties\": {\n        \"dtype\": \"category\",\n        \"num_unique_values\": 1,\n        \"samples\": [\n          \"2JiombtG62r4J3MSs\"\n        ],\n        \"semantic_type\": \"\",\n        \"description\": \"\"\n      }\n    },\n    {\n      \"column\": \"ori\",\n      \"properties\": {\n        \"dtype\": \"category\",\n        \"num_unique_values\": 2,\n        \"samples\": [\n          \"bot\"\n        ],\n        \"semantic_type\": \"\",\n        \"description\": \"\"\n      }\n    },\n    {\n      \"column\": \"txt\",\n      \"properties\": {\n        \"dtype\": \"string\",\n        \"num_unique_values\": 64,\n        \"samples\": [\n          \"Sim\"\n        ],\n        \"semantic_type\": \"\",\n        \"description\": \"\"\n      }\n    },\n    {\n      \"column\": \"_id_seq\",\n      \"properties\": {\n        \"dtype\": \"number\",\n        \"std\": 23,\n        \"min\": 0,\n        \"max\": 81,\n        \"num_unique_values\": 82,\n        \"samples\": [\n          51\n        ],\n        \"semantic_type\": \"\",\n        \"description\": \"\"\n      }\n    }\n  ]\n}"
            }
          },
          "metadata": {},
          "execution_count": 24
        }
      ]
    },
    {
      "cell_type": "markdown",
      "source": [
        "# **Processo de extração dos diálogos**"
      ],
      "metadata": {
        "id": "okCw6vI0Kk-5"
      }
    },
    {
      "cell_type": "code",
      "source": [
        "df_by_id_chat"
      ],
      "metadata": {
        "id": "Ie2CwZuVYO27"
      },
      "execution_count": null,
      "outputs": []
    },
    {
      "cell_type": "code",
      "source": [
        "final_dataframe = df_by_id_chat[['_id', 'ori', 'txt']].drop_duplicates().head(49992)\n",
        "final_dataframe"
      ],
      "metadata": {
        "collapsed": true,
        "id": "rlGYP2rOQ-qE"
      },
      "execution_count": null,
      "outputs": []
    },
    {
      "cell_type": "code",
      "source": [
        "def format_text(text):\n",
        "\n",
        "  text_without_emoji = demoji.replace(text, \"\")\n",
        "\n",
        "  final_text = re.sub(r\"\\\\n+\", \" \", text_without_emoji)\n",
        "\n",
        "  final_text = re.sub(r\"\\n+\", \" \", final_text)\n",
        "\n",
        "  final_text = re.sub(r\"\\\\r+\", \" \", final_text)\n",
        "\n",
        "  return final_text"
      ],
      "metadata": {
        "id": "_XTN7AAhUGry"
      },
      "execution_count": null,
      "outputs": []
    },
    {
      "cell_type": "code",
      "source": [
        "for row in final_dataframe.itertuples(index=True, name='Pandas'):\n",
        "  texto = format_text(row.txt)\n",
        "  final_dataframe['txt'].replace(row.txt, texto, inplace=True)\n"
      ],
      "metadata": {
        "id": "Wf04xhdVS086"
      },
      "execution_count": null,
      "outputs": []
    },
    {
      "cell_type": "code",
      "source": [
        "final_dataframe"
      ],
      "metadata": {
        "collapsed": true,
        "id": "O_5R5-njcEAz"
      },
      "execution_count": null,
      "outputs": []
    },
    {
      "cell_type": "code",
      "source": [
        "final_dataframe_without_index = final_dataframe.reset_index()\n",
        "final_dataframe_without_index"
      ],
      "metadata": {
        "id": "GRX-wpY-tcSJ"
      },
      "execution_count": null,
      "outputs": []
    },
    {
      "cell_type": "code",
      "source": [
        "final_dataframe_without_index.to_json('/content/drive/MyDrive/final_dataframe.json')"
      ],
      "metadata": {
        "id": "Ss93cqO3ccDH"
      },
      "execution_count": null,
      "outputs": []
    }
  ]
}