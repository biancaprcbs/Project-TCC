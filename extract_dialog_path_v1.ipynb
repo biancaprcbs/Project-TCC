{
  "nbformat": 4,
  "nbformat_minor": 0,
  "metadata": {
    "colab": {
      "provenance": []
    },
    "kernelspec": {
      "name": "python3",
      "display_name": "Python 3"
    },
    "language_info": {
      "name": "python"
    }
  },
  "cells": [
    {
      "cell_type": "markdown",
      "source": [
        "# **Importações e uploads necessários**"
      ],
      "metadata": {
        "id": "DUqSE0xan-fy"
      }
    },
    {
      "cell_type": "code",
      "execution_count": null,
      "metadata": {
        "id": "IAHEY_Own3Eq"
      },
      "outputs": [],
      "source": [
        "import spacy\n",
        "import re\n",
        "import glob\n",
        "#import sys\n",
        "import json\n",
        "import pandas as pd\n",
        "from collections import defaultdict"
      ]
    },
    {
      "cell_type": "code",
      "source": [
        "!python -m spacy download pt_core_news_lg"
      ],
      "metadata": {
        "colab": {
          "base_uri": "https://localhost:8080/"
        },
        "collapsed": true,
        "id": "kLkVKxxgoz3M",
        "outputId": "e4f0f6d1-7c43-49dd-d431-fe8daec2446e"
      },
      "execution_count": null,
      "outputs": [
        {
          "output_type": "stream",
          "name": "stdout",
          "text": [
            "Collecting pt-core-news-lg==3.7.0\n",
            "  Downloading https://github.com/explosion/spacy-models/releases/download/pt_core_news_lg-3.7.0/pt_core_news_lg-3.7.0-py3-none-any.whl (568.2 MB)\n",
            "\u001b[2K     \u001b[90m━━━━━━━━━━━━━━━━━━━━━━━━━━━━━━━━━━━━━━━━\u001b[0m \u001b[32m568.2/568.2 MB\u001b[0m \u001b[31m2.1 MB/s\u001b[0m eta \u001b[36m0:00:00\u001b[0m\n",
            "\u001b[?25hRequirement already satisfied: spacy<3.8.0,>=3.7.0 in /usr/local/lib/python3.10/dist-packages (from pt-core-news-lg==3.7.0) (3.7.5)\n",
            "Requirement already satisfied: spacy-legacy<3.1.0,>=3.0.11 in /usr/local/lib/python3.10/dist-packages (from spacy<3.8.0,>=3.7.0->pt-core-news-lg==3.7.0) (3.0.12)\n",
            "Requirement already satisfied: spacy-loggers<2.0.0,>=1.0.0 in /usr/local/lib/python3.10/dist-packages (from spacy<3.8.0,>=3.7.0->pt-core-news-lg==3.7.0) (1.0.5)\n",
            "Requirement already satisfied: murmurhash<1.1.0,>=0.28.0 in /usr/local/lib/python3.10/dist-packages (from spacy<3.8.0,>=3.7.0->pt-core-news-lg==3.7.0) (1.0.10)\n",
            "Requirement already satisfied: cymem<2.1.0,>=2.0.2 in /usr/local/lib/python3.10/dist-packages (from spacy<3.8.0,>=3.7.0->pt-core-news-lg==3.7.0) (2.0.8)\n",
            "Requirement already satisfied: preshed<3.1.0,>=3.0.2 in /usr/local/lib/python3.10/dist-packages (from spacy<3.8.0,>=3.7.0->pt-core-news-lg==3.7.0) (3.0.9)\n",
            "Requirement already satisfied: thinc<8.3.0,>=8.2.2 in /usr/local/lib/python3.10/dist-packages (from spacy<3.8.0,>=3.7.0->pt-core-news-lg==3.7.0) (8.2.5)\n",
            "Requirement already satisfied: wasabi<1.2.0,>=0.9.1 in /usr/local/lib/python3.10/dist-packages (from spacy<3.8.0,>=3.7.0->pt-core-news-lg==3.7.0) (1.1.3)\n",
            "Requirement already satisfied: srsly<3.0.0,>=2.4.3 in /usr/local/lib/python3.10/dist-packages (from spacy<3.8.0,>=3.7.0->pt-core-news-lg==3.7.0) (2.4.8)\n",
            "Requirement already satisfied: catalogue<2.1.0,>=2.0.6 in /usr/local/lib/python3.10/dist-packages (from spacy<3.8.0,>=3.7.0->pt-core-news-lg==3.7.0) (2.0.10)\n",
            "Requirement already satisfied: weasel<0.5.0,>=0.1.0 in /usr/local/lib/python3.10/dist-packages (from spacy<3.8.0,>=3.7.0->pt-core-news-lg==3.7.0) (0.4.1)\n",
            "Requirement already satisfied: typer<1.0.0,>=0.3.0 in /usr/local/lib/python3.10/dist-packages (from spacy<3.8.0,>=3.7.0->pt-core-news-lg==3.7.0) (0.12.3)\n",
            "Requirement already satisfied: tqdm<5.0.0,>=4.38.0 in /usr/local/lib/python3.10/dist-packages (from spacy<3.8.0,>=3.7.0->pt-core-news-lg==3.7.0) (4.66.4)\n",
            "Requirement already satisfied: requests<3.0.0,>=2.13.0 in /usr/local/lib/python3.10/dist-packages (from spacy<3.8.0,>=3.7.0->pt-core-news-lg==3.7.0) (2.31.0)\n",
            "Requirement already satisfied: pydantic!=1.8,!=1.8.1,<3.0.0,>=1.7.4 in /usr/local/lib/python3.10/dist-packages (from spacy<3.8.0,>=3.7.0->pt-core-news-lg==3.7.0) (2.7.4)\n",
            "Requirement already satisfied: jinja2 in /usr/local/lib/python3.10/dist-packages (from spacy<3.8.0,>=3.7.0->pt-core-news-lg==3.7.0) (3.1.4)\n",
            "Requirement already satisfied: setuptools in /usr/local/lib/python3.10/dist-packages (from spacy<3.8.0,>=3.7.0->pt-core-news-lg==3.7.0) (67.7.2)\n",
            "Requirement already satisfied: packaging>=20.0 in /usr/local/lib/python3.10/dist-packages (from spacy<3.8.0,>=3.7.0->pt-core-news-lg==3.7.0) (24.1)\n",
            "Requirement already satisfied: langcodes<4.0.0,>=3.2.0 in /usr/local/lib/python3.10/dist-packages (from spacy<3.8.0,>=3.7.0->pt-core-news-lg==3.7.0) (3.4.0)\n",
            "Requirement already satisfied: numpy>=1.19.0 in /usr/local/lib/python3.10/dist-packages (from spacy<3.8.0,>=3.7.0->pt-core-news-lg==3.7.0) (1.25.2)\n",
            "Requirement already satisfied: language-data>=1.2 in /usr/local/lib/python3.10/dist-packages (from langcodes<4.0.0,>=3.2.0->spacy<3.8.0,>=3.7.0->pt-core-news-lg==3.7.0) (1.2.0)\n",
            "Requirement already satisfied: annotated-types>=0.4.0 in /usr/local/lib/python3.10/dist-packages (from pydantic!=1.8,!=1.8.1,<3.0.0,>=1.7.4->spacy<3.8.0,>=3.7.0->pt-core-news-lg==3.7.0) (0.7.0)\n",
            "Requirement already satisfied: pydantic-core==2.18.4 in /usr/local/lib/python3.10/dist-packages (from pydantic!=1.8,!=1.8.1,<3.0.0,>=1.7.4->spacy<3.8.0,>=3.7.0->pt-core-news-lg==3.7.0) (2.18.4)\n",
            "Requirement already satisfied: typing-extensions>=4.6.1 in /usr/local/lib/python3.10/dist-packages (from pydantic!=1.8,!=1.8.1,<3.0.0,>=1.7.4->spacy<3.8.0,>=3.7.0->pt-core-news-lg==3.7.0) (4.12.2)\n",
            "Requirement already satisfied: charset-normalizer<4,>=2 in /usr/local/lib/python3.10/dist-packages (from requests<3.0.0,>=2.13.0->spacy<3.8.0,>=3.7.0->pt-core-news-lg==3.7.0) (3.3.2)\n",
            "Requirement already satisfied: idna<4,>=2.5 in /usr/local/lib/python3.10/dist-packages (from requests<3.0.0,>=2.13.0->spacy<3.8.0,>=3.7.0->pt-core-news-lg==3.7.0) (3.7)\n",
            "Requirement already satisfied: urllib3<3,>=1.21.1 in /usr/local/lib/python3.10/dist-packages (from requests<3.0.0,>=2.13.0->spacy<3.8.0,>=3.7.0->pt-core-news-lg==3.7.0) (2.0.7)\n",
            "Requirement already satisfied: certifi>=2017.4.17 in /usr/local/lib/python3.10/dist-packages (from requests<3.0.0,>=2.13.0->spacy<3.8.0,>=3.7.0->pt-core-news-lg==3.7.0) (2024.6.2)\n",
            "Requirement already satisfied: blis<0.8.0,>=0.7.8 in /usr/local/lib/python3.10/dist-packages (from thinc<8.3.0,>=8.2.2->spacy<3.8.0,>=3.7.0->pt-core-news-lg==3.7.0) (0.7.11)\n",
            "Requirement already satisfied: confection<1.0.0,>=0.0.1 in /usr/local/lib/python3.10/dist-packages (from thinc<8.3.0,>=8.2.2->spacy<3.8.0,>=3.7.0->pt-core-news-lg==3.7.0) (0.1.5)\n",
            "Requirement already satisfied: click>=8.0.0 in /usr/local/lib/python3.10/dist-packages (from typer<1.0.0,>=0.3.0->spacy<3.8.0,>=3.7.0->pt-core-news-lg==3.7.0) (8.1.7)\n",
            "Requirement already satisfied: shellingham>=1.3.0 in /usr/local/lib/python3.10/dist-packages (from typer<1.0.0,>=0.3.0->spacy<3.8.0,>=3.7.0->pt-core-news-lg==3.7.0) (1.5.4)\n",
            "Requirement already satisfied: rich>=10.11.0 in /usr/local/lib/python3.10/dist-packages (from typer<1.0.0,>=0.3.0->spacy<3.8.0,>=3.7.0->pt-core-news-lg==3.7.0) (13.7.1)\n",
            "Requirement already satisfied: cloudpathlib<1.0.0,>=0.7.0 in /usr/local/lib/python3.10/dist-packages (from weasel<0.5.0,>=0.1.0->spacy<3.8.0,>=3.7.0->pt-core-news-lg==3.7.0) (0.18.1)\n",
            "Requirement already satisfied: smart-open<8.0.0,>=5.2.1 in /usr/local/lib/python3.10/dist-packages (from weasel<0.5.0,>=0.1.0->spacy<3.8.0,>=3.7.0->pt-core-news-lg==3.7.0) (7.0.4)\n",
            "Requirement already satisfied: MarkupSafe>=2.0 in /usr/local/lib/python3.10/dist-packages (from jinja2->spacy<3.8.0,>=3.7.0->pt-core-news-lg==3.7.0) (2.1.5)\n",
            "Requirement already satisfied: marisa-trie>=0.7.7 in /usr/local/lib/python3.10/dist-packages (from language-data>=1.2->langcodes<4.0.0,>=3.2.0->spacy<3.8.0,>=3.7.0->pt-core-news-lg==3.7.0) (1.2.0)\n",
            "Requirement already satisfied: markdown-it-py>=2.2.0 in /usr/local/lib/python3.10/dist-packages (from rich>=10.11.0->typer<1.0.0,>=0.3.0->spacy<3.8.0,>=3.7.0->pt-core-news-lg==3.7.0) (3.0.0)\n",
            "Requirement already satisfied: pygments<3.0.0,>=2.13.0 in /usr/local/lib/python3.10/dist-packages (from rich>=10.11.0->typer<1.0.0,>=0.3.0->spacy<3.8.0,>=3.7.0->pt-core-news-lg==3.7.0) (2.16.1)\n",
            "Requirement already satisfied: wrapt in /usr/local/lib/python3.10/dist-packages (from smart-open<8.0.0,>=5.2.1->weasel<0.5.0,>=0.1.0->spacy<3.8.0,>=3.7.0->pt-core-news-lg==3.7.0) (1.14.1)\n",
            "Requirement already satisfied: mdurl~=0.1 in /usr/local/lib/python3.10/dist-packages (from markdown-it-py>=2.2.0->rich>=10.11.0->typer<1.0.0,>=0.3.0->spacy<3.8.0,>=3.7.0->pt-core-news-lg==3.7.0) (0.1.2)\n",
            "Installing collected packages: pt-core-news-lg\n",
            "Successfully installed pt-core-news-lg-3.7.0\n",
            "\u001b[38;5;2m✔ Download and installation successful\u001b[0m\n",
            "You can now load the package via spacy.load('pt_core_news_lg')\n",
            "\u001b[38;5;3m⚠ Restart to reload dependencies\u001b[0m\n",
            "If you are in a Jupyter or Colab notebook, you may need to restart Python in\n",
            "order to load all the package's dependencies. You can do this by selecting the\n",
            "'Restart kernel' or 'Restart runtime' option.\n"
          ]
        }
      ]
    },
    {
      "cell_type": "code",
      "source": [
        "df = pd.read_json('/content/drive/MyDrive/final_dataframe.json')\n",
        "df_by_id_chat = df.set_index('_id_chat')\n",
        "df_by_id_chat"
      ],
      "metadata": {
        "id": "ApAQS38MpqSv",
        "collapsed": true
      },
      "execution_count": null,
      "outputs": []
    },
    {
      "cell_type": "code",
      "source": [
        "id_dialogos = df['_id_chat'].unique()\n",
        "id_dialogos.size"
      ],
      "metadata": {
        "colab": {
          "base_uri": "https://localhost:8080/"
        },
        "id": "LeunEX72u_qY",
        "outputId": "b72491d9-c575-4742-8990-3938df59e7da"
      },
      "execution_count": null,
      "outputs": [
        {
          "output_type": "execute_result",
          "data": {
            "text/plain": [
              "1388"
            ]
          },
          "metadata": {},
          "execution_count": 4
        }
      ]
    },
    {
      "cell_type": "markdown",
      "source": [
        "# **Funções extras (validação do CPF)**"
      ],
      "metadata": {
        "id": "gjckEdKxpD9w"
      }
    },
    {
      "cell_type": "code",
      "source": [
        "# validação do cpf\n",
        "\n",
        "def valida_cpf(cpf_string):\n",
        "\n",
        "    # retira apenas os dígitos do cpf\n",
        "\n",
        "    numeros = [int(digito) for digito in cpf_string if digito.isdigit()]\n",
        "\n",
        "    quant_digitos = False\n",
        "    validacao1 = False\n",
        "    validacao2 = False\n",
        "\n",
        "    if len(numeros) == 11:\n",
        "        quant_digitos = True\n",
        "\n",
        "        # validação do primeiro dígito\n",
        "\n",
        "        soma_produtos = sum(a*b for a, b in zip (numeros[0:9], range (10, 1, -1)))\n",
        "        digito_esperado = (soma_produtos * 10 % 11) % 10\n",
        "        if numeros[9] == digito_esperado:\n",
        "            validacao1 = True\n",
        "\n",
        "        # validação do segundo dígito\n",
        "\n",
        "        soma_produtos1 = sum(a*b for a, b in zip(numeros [0:10], range (11, 1, -1)))\n",
        "        digito_esperado1 = (soma_produtos1 *10 % 11) % 10\n",
        "        if numeros[10] == digito_esperado1:\n",
        "            validacao2 = True\n",
        "\n",
        "        # validação geral\n",
        "\n",
        "        if quant_digitos == True and validacao1 == True and validacao2 == True:\n",
        "            return True\n",
        "        else:\n",
        "            return False\n",
        "\n",
        "    else:\n",
        "        return False\n",
        "\n"
      ],
      "metadata": {
        "id": "oNxNAwp8pGes"
      },
      "execution_count": null,
      "outputs": []
    },
    {
      "cell_type": "markdown",
      "source": [
        "# **Extração dos predicados do usuário através das entidades**"
      ],
      "metadata": {
        "id": "G1ma9qljD9QU"
      }
    },
    {
      "cell_type": "code",
      "source": [
        "def entities_extraction(phrase):\n",
        "\n",
        "    nlp = spacy.load(\"pt_core_news_lg\")\n",
        "\n",
        "    # criação da regra da entidade e adição ao pipeline\n",
        "\n",
        "    ruler = nlp.add_pipe(\"entity_ruler\", before='ner')\n",
        "\n",
        "    ruler.phrase_matcher = spacy.matcher.PhraseMatcher(nlp.vocab, attr=\"SHAPE\")\n",
        "\n",
        "    # entidades e seus respectivos padrões\n",
        "\n",
        "    patterns = [\n",
        "                    {\n",
        "                        \"label\": \"DOENCA\", \"pattern\": [ {\"LOWER\": \"coronavírus\"} ], \"id\": \"doenca\"\n",
        "                    },\n",
        "                    {\n",
        "                        \"label\": \"DOENCA\", \"pattern\": [ {\"LOWER\": \"covid-19\"} ], \"id\": \"doenca\"\n",
        "                    },\n",
        "                    {\n",
        "                        \"label\": \"ORG\", \"pattern\": \"Governo do Estado\", \"id\": \"organizacao\"\n",
        "                    },\n",
        "                    {\n",
        "                        \"label\": \"TELEFONE\", \"pattern\": [ {\"TEXT\": {\"REGEX\": \"^\\(?\\d{2}\\)?[-.\\s]?\\d{5}[-.\\s]?\\d{4}$\"}} ], \"id\": \"telefone\"\n",
        "                    },\n",
        "                    {\n",
        "                        \"label\": \"TELEFONE\", \"pattern\": '(49) 30492-2949', \"id\": \"telefone\"\n",
        "                    },\n",
        "                    {\n",
        "                        \"label\": \"CPF\", \"pattern\": [ {\"TEXT\": {\"REGEX\": \"(^(\\d){11}$)\"}} ], \"id\": \"cpf\"\n",
        "                    },\n",
        "                    {\n",
        "                        \"label\": \"CEP\", \"pattern\": [ {\"TEXT\": {\"REGEX\": \"(^(\\d){8}$)\"}} ], \"id\": \"cep\"\n",
        "                    },\n",
        "                    {\n",
        "                        \"label\": \"CEP\", \"pattern\": [ {\"TEXT\": {\"REGEX\": \"(^(\\d){5}-(\\d){3}$)\"}} ], \"id\": \"cep\"\n",
        "                    },\n",
        "                    {\n",
        "                        \"label\": \"GENERO\", \"pattern\": [ {\"LOWER\": \"homem\"} ], \"id\": \"genero\"\n",
        "                    },\n",
        "                    {\n",
        "                        \"label\": \"GENERO\", \"pattern\": [ {\"LOWER\": \"mulher\"} ], \"id\": \"genero\"\n",
        "                    },\n",
        "                    {\n",
        "                        \"label\": \"DATA_NASC\", \"pattern\": [ {\"TEXT\": {\"REGEX\": \"^(0[1-9]|[12][0-9]|3[01])\\/(0[1-9]|1[1,2])\\/(19|20)\\d{2}$\"}} ], \"id\": \"data_nascimento\"\n",
        "                    }\n",
        "              ]\n",
        "\n",
        "    # adição dos padrões as regras\n",
        "\n",
        "    ruler.add_patterns(patterns)\n",
        "\n",
        "\n",
        "    # criação do documento a partir do texto\n",
        "\n",
        "    doc = nlp(phrase)\n",
        "\n",
        "    # extração das entidades e suas respectivas labels\n",
        "\n",
        "    find_labels = []\n",
        "\n",
        "    for ent in doc.ents:\n",
        "      if (ent.label_ != \"MISC\" and ent.label_ != \"ORG\" and ent.label_ != \"DOENCA\" and ent.text != \"CPF\"):\n",
        "        if (ent.label_ == \"PER\"):\n",
        "          ent.label_ = \"NOME\"\n",
        "        elif (ent.label_ == \"CPF\"):\n",
        "          if not valida_cpf(ent.text):\n",
        "            ent.label_ = \"TELEFONE\"\n",
        "        print (ent.text, ent.label_)\n",
        "        find_labels.append(ent.label_)\n",
        "\n",
        "\n",
        "    return find_labels\n"
      ],
      "metadata": {
        "id": "3Jbh1hLQELjg"
      },
      "execution_count": null,
      "outputs": []
    },
    {
      "cell_type": "code",
      "source": [
        "def predicates():\n",
        "\n",
        "    intentions_predicates = {'send-info-name': False, 'send-info-cpf': False, 'send-info-birthday': False, 'send-info-location': False,\n",
        "                            'send-info-postal-code': False, 'send-info-gender': False, 'send-info-phone-number': False}\n",
        "    entities_predicates = {'have-info-name': False, 'have-info-cpf': False, 'have-info-birthday': False, 'have-info-location': False,\n",
        "                          'have-info-postal-code': False, 'have-info-gender': False, 'have-info-phone-number': False }\n",
        "\n",
        "    return intentions_predicates, entities_predicates"
      ],
      "metadata": {
        "id": "_ozo6E57HemE"
      },
      "execution_count": null,
      "outputs": []
    },
    {
      "cell_type": "code",
      "source": [
        "def predicates_extraction(user_phrase, int_predicates, ent_predicates):\n",
        "\n",
        "    phrase = user_phrase\n",
        "\n",
        "    list_predicates = entities_extraction(phrase)\n",
        "\n",
        "    intentions_predicates = int_predicates\n",
        "    entities_predicates = ent_predicates\n",
        "    user_predicates = {}\n",
        "\n",
        "    for i in list_predicates:\n",
        "      if (i == 'NOME'):\n",
        "        intentions_predicates['send-info-name'] = True\n",
        "        entities_predicates['have-info-name'] = True\n",
        "      elif (i == 'CPF'):\n",
        "        intentions_predicates['send-info-cpf'] = True\n",
        "        entities_predicates['have-info-cpf'] = True\n",
        "      elif (i == 'DATA_NASC'):\n",
        "        intentions_predicates['send-info-birthday'] = True\n",
        "        entities_predicates['have-info-birthday'] = True\n",
        "      elif (i == 'LOC'):\n",
        "        intentions_predicates['send-info-location'] = True\n",
        "        entities_predicates['have-info-location'] = True\n",
        "      elif (i == 'CEP'):\n",
        "        intentions_predicates['send-info-postal-code'] = True\n",
        "        entities_predicates['have-info-postal-code'] = True\n",
        "      elif (i == 'GENERO'):\n",
        "        intentions_predicates['send-info-gender'] = True\n",
        "        entities_predicates['have-info-gender'] = True\n",
        "      elif (i == 'TELEFONE'):\n",
        "        intentions_predicates['send-info-phone-number'] = True\n",
        "        entities_predicates['have-info-phone-number'] = True\n",
        "\n",
        "    user_predicates.update(intentions_predicates)\n",
        "    user_predicates.update(entities_predicates)\n",
        "\n",
        "    return intentions_predicates, entities_predicates, user_predicates"
      ],
      "metadata": {
        "id": "fheCs-JzGN2B"
      },
      "execution_count": null,
      "outputs": []
    },
    {
      "cell_type": "markdown",
      "source": [
        "# **Extração das ações através das respostas do chatbot**"
      ],
      "metadata": {
        "id": "uMvGYwXMIRsC"
      }
    },
    {
      "cell_type": "code",
      "source": [
        "def find_actions(chatbot_phrase):\n",
        "\n",
        "    phrase = chatbot_phrase\n",
        "\n",
        "    actions_map = {\n",
        "        'error-treatment': 'Não conseguir entender o que você quis dizer',\n",
        "        'error-treatment-voice-message': 'Desculpe, ainda não consigo entender conversas por voz.',\n",
        "        'show-welcome-message': 'Olá! Bem-vindo(a) ao serviço de atendimento online da Secretaria da Saúde do Estado do Ceará!',\n",
        "        'start-dialog': 'Do que você precisa agora? (Digite o número da opção desejada) 1.  Atendimento online sobre o novo Coronavírus (COVID-19)  2.  Informações sobre o novo Coronavírus (COVID-19)  3.  Cuidados com a Saúde Mental 4. Outros',\n",
        "        'error-treatment-start-dialog': 'Desculpe, não entendi sua dúvida. Do que você precisa agora? (Digite o número da opção desejada)   1.  Atendimento online sobre o novo Coronavírus (COVID-19)  2.  Informações sobre o novo Coronavírus (COVID-19)  3.  Cuidados com a Saúde Mental 4. Outros',\n",
        "        'start-online-service-v1': 'As informações compartilhadas aqui são protegidas e ajudam o Governo do Estado a combater o novo Coronavírus (COVID-19). ',\n",
        "        'start-online-service-v2': ' É muito importante responder todas as perguntas e completar o atendimento. Ao final, se for necessário, uma equipe de saúde estará pronta para conversar e cuidar de você.',\n",
        "        'ask-patient-symptoms-v1': 'Você está com algum desses sintomas?   1. Falta de ar  2. Mal-estar intenso  3. Tosse incontrolável  4. Alargamento das narinas durante a respiração (para crianças)  5. Febre acima de 37.8°C persistente por mais de 48h  6. Confusão mental   7. Nenhum dos sintomas acima   Digite os números dos sintomas separados por vírgula (exemplo: 2, 5) ou digite 7 se não estiver com os sintomas descritos acima.',\n",
        "        'ask-patient-symptons-v2': 'Você está com algum desses sintomas?  Selecione uma ou mais das opções abaixo.',\n",
        "        'ask-patient-symptons-v3': 'Você está com algum desses outros sintomas?  1. Febre  2. Tosse  3. Nariz escorrendo  4. Dor de cabeça  5. Dor de garganta  6. Dores pelo corpo  7. Diarreia  8. Nenhum dos sintomas acima   Digite os números dos sintomas separados por vírgula (exemplo: 2, 5, 7) ou digite 8 se não estiver com os sintomas descritos acima.',\n",
        "        'ask-patient-symptons-v4': 'Você está com algum desses outros sintomas? Selecione uma ou mais das opções abaixo.',\n",
        "        'ask-patient-how-many-days-symptoms': 'Há quantos dias os sintomas começaram? Responda apenas com o número de dias (exemplo: 2).',\n",
        "        'call-diagnostic-system': 'O sistema está verificando se você está com suspeita de covid.',\n",
        "        'ask-share-location-v1': 'Vamos direcioná-lo(a) para nossa equipe de saúde. Clique no botão \"Compartilhar minha localização\" para compartilhar onde você está. Ao compartilhar sua localização, você ajuda o Governo a te proteger e proteger os outros. Caso não deseje compartilhar, clique no botão \"Não quero compartilhar minha localização\".',\n",
        "        'ask-share-location-v2': 'Vamos direcioná-lo(a) para nossa equipe de saúde. Clique no botão \"\"Compartilhar minha localização\"\" para compartilhar onde você está. Ao compartilhar sua localização, você ajuda o Governo a te proteger e proteger os outros. Caso não deseje compartilhar, clique no botão \"\"Não quero compartilhar minha localização\"\".',\n",
        "        'ask-share-location-v3': 'Vamos direcioná-lo(a) para nossa equipe de saúde. Clique no  ou no , selecione \"Localização\" e depois \"Localização fixa\". Ao compartilhar sua localização, você ajuda o Governo a te proteger e proteger os outros. Caso não deseje compartilhar, digite \"Não\".',\n",
        "        'ask-share-location-v4': 'Clique no  ou no , selecione \"Localização\" e depois \"Localização fixa\" e compartilhe onde você está. Ao fazer isso, você ajuda o Governo a cuidar melhor de você. Caso não deseje compartilhar, digite \"Não\".',\n",
        "        'show-info-about-share-location': 'Localização compartilhada com sucesso! ',\n",
        "        'error-treatment-share-location': 'O compartilhamento da localização falhou.  Vamos tentar de outra forma.',\n",
        "        'ask-postal-code': 'Informe o CEP da sua localidade, por favor. Exemplo: 57000-000 ou 57000000. Se não souber seu CEP, digite \"Não\".',\n",
        "        'error-treatment-postal-code': 'CEP inválido! Por favor, me informe um CEP válido com o formato abaixo: Exemplo: 57000-000 ou 57000000',\n",
        "        'ask-patient-info-state': 'Qual o seu estado? Exemplo: Ceará ou CE',\n",
        "        'ask-patient-info-city': 'Qual a sua cidade?',\n",
        "        'ask-patient-info-cpf': 'Você pode me informar seu CPF? Não precisa digitar os pontos ou traços ',\n",
        "        'ask-patient-info-name': 'Qual seu nome completo?',\n",
        "        'ask-patient-info-birthday': 'Qual a sua data de nascimento? Por favor, insira uma data no formato dd/mm/aaaa.',\n",
        "        'error-treatment-patient-info-birthday': 'Data inválida! Por favor, digite uma data válida no formato dd/mm/aaaa.',\n",
        "        'ask-patient-comorbidities-v1': 'Você tem algum desses problemas de saúde? 1. Diabetes 2. Pressão alta 3. Problemas nos rins 4. Problemas respiratórios 5. Problemas cardíacos 6. Deficiências imunológicas: portador de HIV, em tratamento para algum câncer, portador de doenças autoimunes (como lúpus, síndrome antifosfolípide, ...), realizou transplante ou usa corticoides 7. Nenhum dos problemas acima Digite os números dos sintomas separados por vírgula (exemplo: 2, 5) ou digite 7 se não estiver com os sintomas descritos acima.',\n",
        "        'ask-patient-comorbidities-v2': 'Você tem algum desses problemas de saúde? Selecione uma ou mais das opções abaixo. *Considere deficiência imunológica: portador de HIV, em tratamento para algum câncer, portador de doenças autoimunes (como lúpus, síndrome antifosfolípide, ...), realizou transplante ou usa corticoides',\n",
        "        'ask-patient-comorbidities-v3': 'Você tem algum desses problemas de saúde?    1. Diabetes  2. Pressão alta  3. Problemas nos rins  4. Problemas respiratórios  5. Problemas cardíacos  6. Deficiências imunológicas: portador de HIV, em tratamento para algum câncer, portador de doenças autoimunes (como lúpus, síndrome antifosfolípide, ...), realizou transplante ou usa corticoides  7. Nenhum dos problemas acima   Digite os números dos problemas separados por vírgula (exemplo: 2, 5) ou digite 7 se não tiver os problemas de saúde descritos acima.',\n",
        "        'ask-patient-info-gender': 'Você é homem, mulher ou prefere não declarar?',\n",
        "        'ask-patient-info-pregmant-woman': 'Você está grávida?',\n",
        "        'ask-patient-info-phone-number': 'me informa o número do seu celular, por favor? Não esquece do DDD. Exemplo: (82) 90000-0000 ou 82912345678',\n",
        "        'show-info-about-mental-health': 'você gostaria de tirar alguma dúvida sobre os temas a seguir? (Basta digitar o número, um por vez, para acessar a resposta) 1) Como cuidar da minha saúde mental durante a pandemia?  2) Como lidar com as crianças nesse período de isolamento? 3) Como lidar com os idosos nesse período? 4) Como apoiar alguém que está muito ansioso com o novo Coronavírus (COVID-19)? 5) Onde encontro serviços de saúde mental durante a pandemia? 6) Fale com a Equipe de Saúde Mental online 7) Para encerrar seu atendimento',\n",
        "        'show-info-mental-health-option-01': 'Alimente-se bem e se exercite Cultive seus hobbies, pratique atividades artísticas Medite Fortaleça os laços com a família e os amigos Diminua o tempo gasto com notícias e busque fontes confiáveis Proteja-se e ajude o próximo Divulgue notícias positivas e de esperança Evite combater o estresse usando tabaco, álcool ou outras drogas Peça ajuda a alguém de sua confiança, se sentir que está sobrecarregado(a) emocionalmente Pense no que o(a) ajudou a lidar com os problemas no passado e o que pode fazer para se fortalecer.',\n",
        "        'show-info-about-covid': 'você gostaria de tirar alguma dúvida sobre os temas a seguir? (digite um número de cada vez para ver a resposta) 1) O que é novo Coronavírus (COVID-19)?  2) Como faço para me proteger?  3) Quais são os principais sintomas?  4) Qual o tratamento?  5) Quais são os riscos?  6) O que fazer quando sentir os sintomas?   7) Mitos e verdades sobre a doença  8) Informações sobre o novo Coronavírus no Estado do Ceará  ou 9) Para encerrar seu atendimento. ',\n",
        "        'show-info-about-new-corona-virus': 'Coronavírus é uma família de vírus que causam infecções respiratórias. Um novo Coronavírus foi descoberto em dezembro de 2019, na China. Ele causa a doença chamada de COVID-19.',\n",
        "        'show-info-about-main-symptoms': 'Os principais sintomas da doença do novo Coronavírus são: ✓Falta de ar ✓Febre ✓Tosse seca',\n",
        "        'show-info-about-the-treatments': 'Até o momento, não há vacina nem medicamento para prevenir ou tratar o novo Coronavírus (COVID-19). As pessoas afetadas devem receber cuidados gerais, e aquelas com doenças graves devem procurar atendimento de saúde.',\n",
        "        'show-info-about-covid-in-ceara-v1': 'Para mais informações, acesse os canais oficiais da Secretaria da Saúde do Estado do Ceará (SESA), do Ministério da Saúde e da Organização Mundial da Saúde (OMS). ',\n",
        "        'show-info-about-covid-in-ceara-v2': 'https://www.saude.ce.gov.br',\n",
        "        'show-info-about-covid-in-ceara-v3': 'https://www.saude.gov.br',\n",
        "        'show-info-about-covid-in-ceara-v4': 'https://coronavirus.ceara.gov.br',\n",
        "        'show-info-about-covid-in-ceara-v5': 'Colabore! Não divulgue conteúdos que não tenham sido produzidos por fontes confiáveis e não espalhe fake news. ',\n",
        "        'show-info-about-how-to-protect-from-virus': 'Consegui entender que você quer saber mais sobre proteção e prevenção. O que você gostaria de saber? 1. Quais as principais medidas de prevenção? 2. Devo usar máscara? 3. Como deve ser a minha máscara caseira? 4. Posso usar minha máscara caseira mais de uma vez? 5. Como lavar as mãos da maneira certa? 6. Como os profissionais de saúde podem se proteger do novo Coronavírus (COVID-19)?',\n",
        "        'show-info-about-prevention-measure': 'undefined path',\n",
        "        'show-info-about-wear-mask': 'undefined path',\n",
        "        'show-info-about-homemade-mask-look-like': 'undefined path',\n",
        "        'show-info-about-homemade-mask-use': '✔ Você pode usar sua máscara caseira mais de uma vez, mas tenha os seguintes cuidados: 1. Lave bem as mãos e tire a máscara sem tocar na parte da frente. 2. Deixe a máscara de molho por meia hora em água + água sanitária. 3. Enxágue e lave com água e sabão. Espere secar para usá-la de novo. ⚠ Atenção! Leve com você reservas de máscara, porque o tempo adequado de uso é de 2 horas.',\n",
        "        'show-info-about-wash-hands-correctly': 'undefined path',\n",
        "        'show-info-health-professional-protection': 'undefined path',\n",
        "        'show-info-about-the-riscs': 'Consegui entender que você quer saber mais sobre riscos. O que você gostaria de saber? 1. Como essa doença se apresenta? 2. Como essa doença se espalha? 3. Essa doença é transmitida pelo ar? 4. Devo me preocupar com essa doença? 5. Quem é grupo de risco?',\n",
        "        'show-info-about-disease-present-itself': '- Os sintomas demoram de 1 a 14 dias para aparecer. - A maioria das pessoas se recupera sem precisar de tratamento especial. - A doença pode se agravar em idosos ou naqueles que já tenham outros problemas de saúde (pressão alta, diabetes ou problemas no coração). - As crianças geralmente têm sintomas leves ou não apresentam sintomas.',\n",
        "        'show-info-about-disease-spread': 'undefined path',\n",
        "        'show-info-about-disease-transmitted-through-the-air': 'A doença não é transmitida pelo ar. Até agora, estudos indicam que o vírus é passado principalmente pelo contato com gotículas respiratórias.',\n",
        "        'show-info-about-worried-about-this-disease': 'undefined path',\n",
        "        'show-info-about-the-risk-group': 'Idosos e pessoas com outros problemas de saúde (diabetes, pressão alta e problemas de coração, por exemplo) são grupo de risco.',\n",
        "        'show-info-about-when-feel-the-symptoms': 'Consegui entender que você quer saber mais sobre sintomas. O que você gostaria de saber? 1. Não me sinto bem. Devo procurar um médico? 2. Onde buscar atendimento? 3. Como é feito o diagnóstico do novo Coronavírus (COVID-19)? 4. Para quem o exame é indicado? 5. O que é isolamento domiciliar? 6. Quando é preciso fazer isolamento domiciliar? 7. O que é o distanciamento social? 8. Todo caso de COVID-19 precisa ser internado no hospital?',\n",
        "        'show-info-about-should-see-the-doctor': 'undefined path',\n",
        "        'show-info-about-where-to-get-care': 'undefined path',\n",
        "        'show-info-about-the-diagnostic-of-the-covid': 'Atualmente, o diagnóstico é feito pela técnica swab, que é o uso de um bastão, parecido com um cotonete, para coletar materiais respiratórios (aspiração de vias aéreas ou coleta de secreções da boca e do nariz).',\n",
        "        'show-info-about-who-is-the-exam-for': 'O exame é indicado para: ✓ Pessoas com sintomas classificados como Síndrome Respiratória Aguda Grave (SRAG)*✓ Profissionais da saúde com sintomas ✓ Pessoas vulneráveis com síndrome gripal (a partir de 60 anos e jovens com diabetes mellitus, pressão alta, problemas cardíacos, doença pulmonar crônica, câncer e gravidez de risco) * Síndrome Respiratória Aguda Grave (SRAG): febre acompanhada de tosse ou dor de garganta ou falta de ar ou nariz escorrendo.',\n",
        "        'show-info-about-home-isolation': 'undefined path',\n",
        "        'show-info-about-when-home-isolation-is-necessary': 'undefined path',\n",
        "        'show-info-about-social-distancing': 'undefined path',\n",
        "        'show-info-about-the-cases-need-hospitalization': 'Nem todo caso de COVID-19 precisa ser internado. Somente pacientes classificados como Síndrome Gripal (SG)* e sinais de alarme (desconforto respiratório, cansaço, respiração rápida) ou Síndrome Respiratória Aguda Grave (SRAG)**. * Síndrome Gripal (SG):  febre acompanhada de tosse ou dor de garganta ou falta de ar ou nariz escorrendo. Em criança com menos de 2 anos: febre de início súbito + sintomas respiratórios (tosse, coriza e obstrução nasal). ** Síndrome Respiratória Aguda Grave (SRAG): indivíduo com febre acompanhada de tosse ou dor de garganta e que apresenta falta de ar.',\n",
        "        'show-info-about-myths-and-truths': 'Consegui entender que você quer saber mais sobre mitos. O que você gostaria de saber? 1. Os animais de estimação podem espalhar o novo Coronavírus? 2. Quais as pessoas mais afetadas pelo novo Coronavírus? 3. Os antibióticos são eficazes na prevenção e no tratamento do novo Coronavírus? 4. Posso tomar algum remédio para prevenir ou tratar novo Coronavírus? 5. Quanto tempo o novo Coronavírus sobrevive em superfícies? 6. O novo Coronavírus pode matar? 7. Há restrições para comprar mercadorias vindas de países com casos confirmados da doença?',\n",
        "        'show-info-about-pets-spread-covid': 'undefined path',\n",
        "        'show-info-about-people-affected-by-covid': 'undefined path',\n",
        "        'show-info-antibiotics-effects': 'Antibióticos *não* são eficazes para prevenir e tratar o novo Coronavírus. Antibióticos só funcionam contra bactérias. O novo Coronavírus (COVID-19) é um vírus',\n",
        "        'show-info-about-medicine-for-covid': 'Ainda não existem remédios específicos recomendados para prevenir ou tratar o novo Coronavírus (COVID-19).',\n",
        "        'show-info-about-covid-survive-in-surface': 'undefined path',\n",
        "        'show-info-about-covid-kill': 'undefined path',\n",
        "        'show-info-about-severity-of-covid': 'Em geral, a doença é leve, mas pode se agravar. Cerca de 1 em cada 5 pessoas infectadas necessita de cuidados hospitalares.',\n",
        "        'show-info-about-the-restrictions-to-by': 'undefined path',\n",
        "        'show-info-about-follow-program-v1': 'Faça parte do nosso Programa de Acompanhamento de Saúde, envie uma mensagem de Whatsapp com a palavra \"Acompanhamento\" para o número (85) 98439-0647.  Ou clique no link abaixo para ser direcionado para nosso perfil no Whatsapp: ',\n",
        "        'show-info-about-follow-program-v2': 'https://bit.ly/2KitO8J',\n",
        "        'show-info-about-follow-program-v3': 'Assim, mandaremos mensagens para saber como você está se sentindo e garantir que está recebendo a orientação certa.',\n",
        "        'show-info-about-follow-program-v4': 'A Secretaria da Saúde do Estado tem um Programa de Acompanhamento de Saúde para você.  Mandaremos mensagens para saber como você está se sentindo e garantir que está recebendo a orientação certa.',\n",
        "        'show-info-about-follow-program-v5': 'Pessoal, o governo lançou um serviço de atendimento pelo WhatsApp que pode nos ajudar.  Basta clicar nesse link para ser atendido(a) online por um profissional de saúde!',\n",
        "        'show-info-about-folow-program-v6': 'https://bit.ly/ceara_plantaocoronavirus',\n",
        "        'show-info-others': 'Este é um canal para te orientar sobre o novo Coronavírus (COVID-19).     Para denunciar descumprimento a determinações do Governo no enfrentamento ao novo Coronavírus, ligue 190.      Para outras informações, fale com a Central de Atendimento da Ouvidoria pelo 155.',\n",
        "        'ask-user-grade-v1': 'Certo! Antes de encerrar peço 1 minutinho para que você avalie o meu atendimento (digite um número de 1 a 10), sendo: 1. Odiei.  >>> 10. Amei! ',\n",
        "        'ask-user-grade-v2': 'Por favor, antes de desconectar, avalie esse serviço. Dê uma nota de 1 a 10, sendo:   1.Ruim  >>> 10. Muito bom! ',\n",
        "        'ask-user-check-v1': 'Suas dúvidas foram respondidas?',\n",
        "        'ask-user-check-v2': 'Quer fazer outra pergunta?',\n",
        "        'ask-user-check-v3': ' você gostaria de tirar alguma dúvida sobre os temas a seguir?',\n",
        "        'finish-service': 'Seu atendimento foi finalizado.',\n",
        "        'finish-dialog-final-v1': 'Obrigado pelo seu contato! Juntos venceremos essa luta contra o novo Coronavírus! #FiqueEmCasa    Até logo!',\n",
        "        'finish-dialog-final-v2': 'Seja um(a) aliado(a) nessa luta, compartilhe esse serviço com pessoas e grupos que podem precisar da nossa ajuda.   Juntos venceremos essa luta contra o novo Coronavírus! #FiqueEmCasa    Até logo!',\n",
        "        'health-agent-takes-control': 'Olá, obrigado pelas informações! Elas são muito importantes para que nós consigamos atender a todos nesse momento difícil. Nossa equipe de saúde está aqui para te ajudar! Como posso te ajudar?',\n",
        "        'show-info-calling-health-profitional': 'Estamos acionando um profissional de saúde para atender e cuidar de você.  Por favor, complete as informações a seguir para agilizarmos o seu atendimento.',\n",
        "        'show-info-diagnostic-positive-v1': 'De acordo com suas respostas e com o protocolo do Ministério da Saúde, *você pode estar com o novo Coronavírus (COVID-19).*  ',\n",
        "        'show-info-diagnostic-positive-v2': 'De acordo com suas respostas e com o protocolo do Ministério da Saúde, *você possui sintomas leves que podem estar relacionados ao novo Coronavírus (COVID-19).*  ',\n",
        "        'show-info-diagnostic-negative': 'undefined path',\n",
        "        'call-health-agent-v1': 'Obrigado por se cadastrar. Permaneça com a conversa aberta. Em alguns minutos iremos atendê-lo(a). ',\n",
        "        'call-health-agent-v2': 'Obrigado por se cadastrar. Permaneça com a conversa aberta. Em alguns minutos iremos atendê-lo(a).',\n",
        "        'call-health-agent-v3': 'Vou te encaminhar para nossa equipe de saúde. ',\n",
        "        'call-health-agent-v4': 'Vamos direcioná-lo(a) para nossa Equipe de Saúde Mental. ',\n",
        "        'call-health-agent-v5': 'Continue com a nossa conversa aberta. A Equipe de Saúde Mental vai atendê-lo(a) em alguns minutos. ',\n",
        "        'show-initial-message-follow-program-v1': 'Queremos estar mais próximos de você através do nosso Programa de Acompanhamento de Saúde. ',\n",
        "        'show-initial-message-follow-program-v2': 'Estamos de volta com nosso Programa de Acompanhamento de Saúde para estar mais próximos de você. ',\n",
        "        'start-dialog-follow-program-v1': 'Agora, faremos algumas perguntas sobre como você está se sentindo hoje.',\n",
        "        'star-dialog-follow-program-v2': 'As informações compartilhadas aqui são protegidas e ajudam o Governo do Estado no combate ao novo Coronavírus (COVID-19).'\n",
        "    }\n",
        "\n",
        "    #print('-------', phrase)\n",
        "    #action = [k for k, v in actions_map.items() if v == phrase]\n",
        "    action = [key for key, val in actions_map.items() if val in phrase]\n",
        "\n",
        "    if action:\n",
        "      action = action[0]\n",
        "\n",
        "\n",
        "    return action\n"
      ],
      "metadata": {
        "id": "wTE5CuWDIh1e"
      },
      "execution_count": null,
      "outputs": []
    },
    {
      "cell_type": "markdown",
      "source": [
        "# **Análise dos diálogos do dataframe**"
      ],
      "metadata": {
        "id": "y0IsKWCDSgUK"
      }
    },
    {
      "cell_type": "code",
      "source": [
        "# extração das ações a cada interação do chatbot\n",
        "\n",
        "for i in range(id_dialogos.size):\n",
        "  dialog = df_by_id_chat.loc[id_dialogos[i]]\n",
        "  if (isinstance(dialog,pd.DataFrame)):\n",
        "    print('Caminho do diálogo', i, '\\n')\n",
        "    for index, row in dialog.iterrows():\n",
        "      if (row['ori'] == 'bot'):\n",
        "        print(find_actions(row.txt), '\\n')\n",
        "    print('\\n')\n"
      ],
      "metadata": {
        "id": "ek_U8TqUou1o",
        "collapsed": true
      },
      "execution_count": null,
      "outputs": []
    },
    {
      "cell_type": "code",
      "source": [
        "# extração dos predicados do usuário a cada interação do usuário\n",
        "\n",
        "# for i in range(1):\n",
        "#   initial_predicates = predicates()\n",
        "#   int_predicates = initial_predicates[0]\n",
        "#   ent_predicates = initial_predicates[1]\n",
        "#   dialog = df_by_id_chat.loc[id_dialogos[i]]\n",
        "#   print('Caminho do diálogo', i, '\\n')\n",
        "#   for index, row in dialog.iterrows():\n",
        "#     if (row['ori'] == 'patient'):\n",
        "#       results = predicates_extraction(row.txt, int_predicates, ent_predicates)\n",
        "#       int_predicates = results[0]\n",
        "#       ent_predicates = results[1]\n",
        "#       print('Predicados do usuário: ', results[2])\n",
        "#   print('\\n')"
      ],
      "metadata": {
        "id": "S0vlgdkglZJ9",
        "collapsed": true
      },
      "execution_count": null,
      "outputs": []
    }
  ]
}